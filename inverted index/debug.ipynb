{
 "cells": [
  {
   "cell_type": "code",
   "execution_count": 13,
   "metadata": {},
   "outputs": [
    {
     "name": "stdout",
     "output_type": "stream",
     "text": [
      "Master is full\n"
     ]
    },
    {
     "data": {
      "text/plain": [
       "CompletedProcess(args=['python', 'map.py', '50051'], returncode=1)"
      ]
     },
     "execution_count": 13,
     "metadata": {},
     "output_type": "execute_result"
    },
    {
     "name": "stdout",
     "output_type": "stream",
     "text": [
      "Reduce Address added : localhost:1\n"
     ]
    }
   ],
   "source": [
    "import subprocess\n",
    "#use subprocess.run to run map.py\n",
    "subprocess.run([\"python\", \"map.py\", \"50051\"])"
   ]
  },
  {
   "cell_type": "code",
   "execution_count": null,
   "metadata": {},
   "outputs": [],
   "source": [
    "import multiprocessing\n",
    "\n",
    "    def run_file(file_path, arg1, arg2):\n",
    "        exec(open(file_path).read())\n",
    "\n",
    "    map_files = [('map_server.py',str(i+1)) for i in range(M)]\n",
    "    reduce_files = [('reduce_server.py',str(i+M+1)) for i in range(R)]\n",
    "    \n",
    "    pool = multiprocessing.Pool(processes=M+R)\n",
    "    for file_args in map_files:\n",
    "        pool.apply_async(run_file, file_args)\n",
    "    import time\n",
    "    time.sleep(2)\n",
    "    for file_args in reduce_files:\n",
    "        pool.apply_async(run_file, file_args)\n",
    "    pool.close()\n",
    "    pool.join()"
   ]
  }
 ],
 "metadata": {
  "kernelspec": {
   "display_name": "venv",
   "language": "python",
   "name": "python3"
  },
  "language_info": {
   "codemirror_mode": {
    "name": "ipython",
    "version": 3
   },
   "file_extension": ".py",
   "mimetype": "text/x-python",
   "name": "python",
   "nbconvert_exporter": "python",
   "pygments_lexer": "ipython3",
   "version": "3.9.7"
  },
  "orig_nbformat": 4
 },
 "nbformat": 4,
 "nbformat_minor": 2
}
