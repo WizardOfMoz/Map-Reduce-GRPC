{
 "cells": [
  {
   "cell_type": "code",
   "execution_count": 3,
   "metadata": {},
   "outputs": [
    {
     "data": {
      "text/plain": [
       "['apple', 'banana', 'cherry', 'date']"
      ]
     },
     "execution_count": 3,
     "metadata": {},
     "output_type": "execute_result"
    }
   ],
   "source": [
    "# Example arrays\n",
    "array1 = [\"apple\", \"banana\", \"cherry\", \"date\"]\n",
    "array2 = [4, 2, 1, 3]\n",
    "\n",
    "# Custom comparison function\n",
    "def compare(x, y):\n",
    "    return array1.index(x) - array1.index(y)\n",
    "\n",
    "# Sort both arrays based on array1\n",
    "# array2_sorted = sorted(array2, key=lambda x: array1.index(x))\n",
    "array1_sorted = sorted(array1)\n",
    "array1_sorted\n",
    "# Sort array2 based on array1 using the custom comparison function\n",
    "# array2_sorted_custom = sorted(array2, key=lambda x: array1.index(x), cmp=compare)"
   ]
  },
  {
   "cell_type": "code",
   "execution_count": null,
   "metadata": {},
   "outputs": [],
   "source": []
  }
 ],
 "metadata": {
  "kernelspec": {
   "display_name": "venv",
   "language": "python",
   "name": "python3"
  },
  "language_info": {
   "codemirror_mode": {
    "name": "ipython",
    "version": 3
   },
   "file_extension": ".py",
   "mimetype": "text/x-python",
   "name": "python",
   "nbconvert_exporter": "python",
   "pygments_lexer": "ipython3",
   "version": "3.9.7"
  },
  "orig_nbformat": 4
 },
 "nbformat": 4,
 "nbformat_minor": 2
}
